{
 "cells": [
  {
   "cell_type": "markdown",
   "metadata": {},
   "source": [
    "Задача: Нагенерить log и rdf файлы для каждой из точек\n",
    "    "
   ]
  },
  {
   "cell_type": "code",
   "execution_count": 15,
   "metadata": {},
   "outputs": [],
   "source": [
    "import matplotlib.pyplot as plt\n",
    "import numpy as np\n",
    "import os"
   ]
  },
  {
   "cell_type": "code",
   "execution_count": 8,
   "metadata": {},
   "outputs": [],
   "source": [
    "# Зададим пределы температуры и давления\n",
    "min_T, max_T = .0, 1.1\n",
    "min_p, max_p = 1, 11 # Логарифмический масштаб\n",
    "\n",
    "# Зададим шаг разбивки по температуре и по давлению\n",
    "step_T = 0.2\n",
    "step_p = 2 # Логарифмический масштаб"
   ]
  },
  {
   "cell_type": "code",
   "execution_count": 9,
   "metadata": {},
   "outputs": [],
   "source": [
    "def range_log(start = 10**-5,finish = 100,step=10):\n",
    "    \"\"\"\n",
    "    Generator object\n",
    "    Works as range, but instead of add uses multiplies\n",
    "    \"\"\"\n",
    "    now = start\n",
    "    while now < finish:\n",
    "        yield now\n",
    "        now *= step"
   ]
  },
  {
   "cell_type": "code",
   "execution_count": 10,
   "metadata": {},
   "outputs": [
    {
     "data": {
      "image/png": "[encoded data removed]",
      "text/plain": [
       "<matplotlib.figure.Figure at 0x16e9b7847b8>"
      ]
     },
     "metadata": {},
     "output_type": "display_data"
    }
   ],
   "source": [
    "for T in np.arange(min_T,max_T,step_T):\n",
    "    for p in range_log(min_p,max_p,2):\n",
    "        plt.scatter(T,p,color='black')\n",
    "plt.yscale('log')\n",
    "plt.show()"
   ]
  },
  {
   "cell_type": "code",
   "execution_count": 14,
   "metadata": {},
   "outputs": [
    {
     "name": "stdout",
     "output_type": "stream",
     "text": [
      "lmp_serial < in.restart -var temperature 0.0 -var pressure 1.0\n",
      "lmp_serial < in.restart -var temperature 0.0 -var pressure 2.0\n",
      "lmp_serial < in.restart -var temperature 0.0 -var pressure 4.0\n",
      "lmp_serial < in.restart -var temperature 0.0 -var pressure 8.0\n",
      "lmp_serial < in.restart -var temperature 0.2 -var pressure 1.0\n",
      "lmp_serial < in.restart -var temperature 0.2 -var pressure 2.0\n",
      "lmp_serial < in.restart -var temperature 0.2 -var pressure 4.0\n",
      "lmp_serial < in.restart -var temperature 0.2 -var pressure 8.0\n",
      "lmp_serial < in.restart -var temperature 0.4 -var pressure 1.0\n",
      "lmp_serial < in.restart -var temperature 0.4 -var pressure 2.0\n",
      "lmp_serial < in.restart -var temperature 0.4 -var pressure 4.0\n",
      "lmp_serial < in.restart -var temperature 0.4 -var pressure 8.0\n",
      "lmp_serial < in.restart -var temperature 0.6 -var pressure 1.0\n",
      "lmp_serial < in.restart -var temperature 0.6 -var pressure 2.0\n",
      "lmp_serial < in.restart -var temperature 0.6 -var pressure 4.0\n",
      "lmp_serial < in.restart -var temperature 0.6 -var pressure 8.0\n",
      "lmp_serial < in.restart -var temperature 0.8 -var pressure 1.0\n",
      "lmp_serial < in.restart -var temperature 0.8 -var pressure 2.0\n",
      "lmp_serial < in.restart -var temperature 0.8 -var pressure 4.0\n",
      "lmp_serial < in.restart -var temperature 0.8 -var pressure 8.0\n",
      "lmp_serial < in.restart -var temperature 1.0 -var pressure 1.0\n",
      "lmp_serial < in.restart -var temperature 1.0 -var pressure 2.0\n",
      "lmp_serial < in.restart -var temperature 1.0 -var pressure 4.0\n",
      "lmp_serial < in.restart -var temperature 1.0 -var pressure 8.0\n"
     ]
    }
   ],
   "source": [
    "os.system('lmp_serial < in.lennardjonesfluid')\n",
    "os.system('lmp_serial < in.lennardjonescrystal -var pressure 0.1')\n",
    "\n",
    "for T in np.arange(min_T,max_T,step_T):\n",
    "    for p in range_log(min_p,max_p,2):\n",
    "        os.system('lmp_serial < in.restart -var temperature {:.1f} -var pressure {:.1f}'.format(T,p))"
   ]
  },
  {
   "cell_type": "code",
   "execution_count": 18,
   "metadata": {},
   "outputs": [
    {
     "data": {
      "text/plain": [
       "0"
      ]
     },
     "execution_count": 18,
     "metadata": {},
     "output_type": "execute_result"
    }
   ],
   "source": [
    "os.system('lmp_serial < in.restart -var temperature 0.5 -var pressure 0.1')"
   ]
  },
  {
   "cell_type": "code",
   "execution_count": null,
   "metadata": {},
   "outputs": [],
   "source": [
    "# lmp_serial < in.lennardjonesfluid\n",
    "# lmp_serial < in.lennardjonescrystal -var pressure 0.1"
   ]
  }
 ],
 "metadata": {
  "kernelspec": {
   "display_name": "Python 3",
   "language": "python",
   "name": "python3"
  },
  "language_info": {
   "codemirror_mode": {
    "name": "ipython",
    "version": 3
   },
   "file_extension": ".py",
   "mimetype": "text/x-python",
   "name": "python",
   "nbconvert_exporter": "python",
   "pygments_lexer": "ipython3",
   "version": "3.6.4"
  }
 },
 "nbformat": 4,
 "nbformat_minor": 2
}
