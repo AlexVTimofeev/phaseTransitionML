{
 "cells": [
  {
   "cell_type": "code",
   "execution_count": 21,
   "metadata": {},
   "outputs": [],
   "source": [
    "import matplotlib.pyplot as plt\n",
    "import numpy as np"
   ]
  },
  {
   "cell_type": "code",
   "execution_count": 24,
   "metadata": {},
   "outputs": [],
   "source": [
    "# Зададим пределы температуры и давления\n",
    "min_T, max_T = .0, 2.6\n",
    "min_p, max_p = 10**-5, 101 # Логарифмический масштаб\n",
    "\n",
    "# Зададим шаг разбивки по температуре и по давлению\n",
    "step_T = 0.1\n",
    "step_p = 2 # Логарифмический масштаб"
   ]
  },
  {
   "cell_type": "code",
   "execution_count": 25,
   "metadata": {},
   "outputs": [],
   "source": [
    "def range_log(start = 10**-5,finish = 100,step=10):\n",
    "    \"\"\"\n",
    "    Generator object\n",
    "    Works as range, but instead of add uses multiplies\n",
    "    \"\"\"\n",
    "    now = start\n",
    "    while now < finish:\n",
    "        yield now\n",
    "        now *= step"
   ]
  },
  {
   "cell_type": "code",
   "execution_count": 32,
   "metadata": {},
   "outputs": [
    {
     "data": {
      "image/png": "[encoded data removed]",
      "text/plain": [
       "<matplotlib.figure.Figure at 0x16729933358>"
      ]
     },
     "metadata": {},
     "output_type": "display_data"
    }
   ],
   "source": [
    "for T in np.arange(min_T,max_T,step_T):\n",
    "    for p in range_log(min_p,max_p,2):\n",
    "        plt.scatter(T,p,color='black')\n",
    "plt.yscale('log')\n",
    "plt.show()"
   ]
  },
  {
   "cell_type": "code",
   "execution_count": null,
   "metadata": {},
   "outputs": [],
   "source": []
  }
 ],
 "metadata": {
  "kernelspec": {
   "display_name": "Python 3",
   "language": "python",
   "name": "python3"
  },
  "language_info": {
   "codemirror_mode": {
    "name": "ipython",
    "version": 3
   },
   "file_extension": ".py",
   "mimetype": "text/x-python",
   "name": "python",
   "nbconvert_exporter": "python",
   "pygments_lexer": "ipython3",
   "version": "3.6.4"
  }
 },
 "nbformat": 4,
 "nbformat_minor": 2
}
