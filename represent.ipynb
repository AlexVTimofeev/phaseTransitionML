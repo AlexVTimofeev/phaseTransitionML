{
 "cells": [
  {
   "cell_type": "code",
   "execution_count": 1,
   "metadata": {},
   "outputs": [],
   "source": [
    "import matplotlib.pyplot as ply\n",
    "import numpy as np\n",
    "import pandas as pd\n",
    "import re"
   ]
  },
  {
   "cell_type": "code",
   "execution_count": 46,
   "metadata": {},
   "outputs": [],
   "source": [
    "data = pd.read_table(\n",
    "    'temp0.5.press0.1.rdf',skiprows=[0,1,2,3,4],\n",
    "    delimiter=' ',names=['Row','c_1[1]','c_1[2]','c_1[3]'],index_col='Row')"
   ]
  },
  {
   "cell_type": "code",
   "execution_count": 47,
   "metadata": {},
   "outputs": [
    {
     "data": {
      "text/html": [
       "<div>\n",
       "<style scoped>\n",
       "    .dataframe tbody tr th:only-of-type {\n",
       "        vertical-align: middle;\n",
       "    }\n",
       "\n",
       "    .dataframe tbody tr th {\n",
       "        vertical-align: top;\n",
       "    }\n",
       "\n",
       "    .dataframe thead th {\n",
       "        text-align: right;\n",
       "    }\n",
       "</style>\n",
       "<table border=\"1\" class=\"dataframe\">\n",
       "  <thead>\n",
       "    <tr style=\"text-align: right;\">\n",
       "      <th></th>\n",
       "      <th>c_1[1]</th>\n",
       "      <th>c_1[2]</th>\n",
       "      <th>c_1[3]</th>\n",
       "    </tr>\n",
       "    <tr>\n",
       "      <th>Row</th>\n",
       "      <th></th>\n",
       "      <th></th>\n",
       "      <th></th>\n",
       "    </tr>\n",
       "  </thead>\n",
       "  <tbody>\n",
       "    <tr>\n",
       "      <th>2</th>\n",
       "      <td>0.0375</td>\n",
       "      <td>0.0</td>\n",
       "      <td>0.0</td>\n",
       "    </tr>\n",
       "    <tr>\n",
       "      <th>3</th>\n",
       "      <td>0.0625</td>\n",
       "      <td>0.0</td>\n",
       "      <td>0.0</td>\n",
       "    </tr>\n",
       "    <tr>\n",
       "      <th>4</th>\n",
       "      <td>0.0875</td>\n",
       "      <td>0.0</td>\n",
       "      <td>0.0</td>\n",
       "    </tr>\n",
       "    <tr>\n",
       "      <th>5</th>\n",
       "      <td>0.1125</td>\n",
       "      <td>0.0</td>\n",
       "      <td>0.0</td>\n",
       "    </tr>\n",
       "    <tr>\n",
       "      <th>6</th>\n",
       "      <td>0.1375</td>\n",
       "      <td>0.0</td>\n",
       "      <td>0.0</td>\n",
       "    </tr>\n",
       "  </tbody>\n",
       "</table>\n",
       "</div>"
      ],
      "text/plain": [
       "     c_1[1]  c_1[2]  c_1[3]\n",
       "Row                        \n",
       "2    0.0375     0.0     0.0\n",
       "3    0.0625     0.0     0.0\n",
       "4    0.0875     0.0     0.0\n",
       "5    0.1125     0.0     0.0\n",
       "6    0.1375     0.0     0.0"
      ]
     },
     "execution_count": 47,
     "metadata": {},
     "output_type": "execute_result"
    }
   ],
   "source": [
    "data.head()"
   ]
  },
  {
   "cell_type": "code",
   "execution_count": 54,
   "metadata": {},
   "outputs": [
    {
     "data": {
      "text/plain": [
       "<matplotlib.axes._subplots.AxesSubplot at 0x29f92f31400>"
      ]
     },
     "execution_count": 54,
     "metadata": {},
     "output_type": "execute_result"
    },
    {
     "data": {
      "image/png": "[encoded data removed]",
      "text/plain": [
       "<matplotlib.figure.Figure at 0x29f931f0550>"
      ]
     },
     "metadata": {},
     "output_type": "display_data"
    }
   ],
   "source": [
    "data.plot(y='c_1[2]')"
   ]
  },
  {
   "cell_type": "code",
   "execution_count": 58,
   "metadata": {},
   "outputs": [],
   "source": [
    "data = pd.read_table('log.temp0.5.press0.1.file')"
   ]
  },
  {
   "cell_type": "code",
   "execution_count": 86,
   "metadata": {},
   "outputs": [],
   "source": [
    "#застревает \n",
    "def read_line_special(path):\n",
    "    with open(path,'r') as file:\n",
    "        while file.readable():\n",
    "            yield file.readline()"
   ]
  },
  {
   "cell_type": "code",
   "execution_count": 18,
   "metadata": {},
   "outputs": [],
   "source": [
    "def read_line_special(file_object):\n",
    "    while True:\n",
    "        data = file_object.readline()\n",
    "        if not data:\n",
    "            break\n",
    "        yield data"
   ]
  },
  {
   "cell_type": "code",
   "execution_count": 20,
   "metadata": {},
   "outputs": [],
   "source": [
    "def parser(line):\n",
    "    result = re.fullmatch('[\\s|\\d|\\.|\\-]+',line)\n",
    "    if result:\n",
    "        res = re.search('\\d',result.string) # костыль\n",
    "        if res:\n",
    "            return result.string\n",
    "        else:\n",
    "            return None\n",
    "    else:\n",
    "        return None"
   ]
  },
  {
   "cell_type": "code",
   "execution_count": 217,
   "metadata": {},
   "outputs": [],
   "source": [
    "path = 'log.temp0.5.press0.1.file'\n",
    "\n",
    "auxiliary_file = 'help.txt'\n",
    "help_file = open(auxiliary_file,'w') # костыль - не могу сразу передавать в DataFrame str. Использовать split и int?\n",
    "help_file.write('0 0 0 0 0 0 0 0 0\\n') # костыль - можно написать хэдр\n",
    "with open(path,'r') as file:\n",
    "    for line in read_line_special(file):\n",
    "        line = parser(line)\n",
    "        if line:\n",
    "            line = re.sub('\\s+',' ',line) # ? костыль\n",
    "            line = line[1:-2] + '\\n' # костыль\n",
    "            help_file.write(line)\n",
    "help_file.close()"
   ]
  },
  {
   "cell_type": "code",
   "execution_count": 33,
   "metadata": {},
   "outputs": [],
   "source": [
    "path = 'log.temp0.5.press0.1.file'\n",
    "names =['Step','PotEng','KinEng','TotEng','Temp','Press','Density', 'c_2[4]','c_3[4]']\n",
    "n_data = pd.DataFrame(columns=names)\n",
    "n_data.set_index('Step')\n",
    "\n",
    "# Проблема в том, что у последних на два столбца больше\n",
    "with open(path,'r') as file:\n",
    "    for line in read_line_special(file):\n",
    "        line = parser(line)\n",
    "        if line:\n",
    "            line = re.sub('\\s+',' ',line) # ? костыль\n",
    "            line = line[1:-2] + '\\n' # костыль\n",
    "            line = [float(i) for i in line.split()]\n",
    "            #n_data = n_data.append(line)"
   ]
  },
  {
   "cell_type": "code",
   "execution_count": 11,
   "metadata": {},
   "outputs": [],
   "source": [
    "names =['Step','PotEng','KinEng','TotEng','Temp','Press','Density', 'c_2[4]','c_3[4]']\n",
    "data = pd.read_table('help.txt',header=None, delimiter=' '\n",
    "                     ,index_col=0,names=names\n",
    "                     ,error_bad_lines=False)[1:] \n",
    "# костыль "
   ]
  },
  {
   "cell_type": "code",
   "execution_count": 36,
   "metadata": {},
   "outputs": [
    {
     "data": {
      "text/html": [
       "<div>\n",
       "<style scoped>\n",
       "    .dataframe tbody tr th:only-of-type {\n",
       "        vertical-align: middle;\n",
       "    }\n",
       "\n",
       "    .dataframe tbody tr th {\n",
       "        vertical-align: top;\n",
       "    }\n",
       "\n",
       "    .dataframe thead th {\n",
       "        text-align: right;\n",
       "    }\n",
       "</style>\n",
       "<table border=\"1\" class=\"dataframe\">\n",
       "  <thead>\n",
       "    <tr style=\"text-align: right;\">\n",
       "      <th></th>\n",
       "      <th>PotEng</th>\n",
       "      <th>KinEng</th>\n",
       "      <th>TotEng</th>\n",
       "      <th>Temp</th>\n",
       "      <th>Press</th>\n",
       "      <th>Density</th>\n",
       "      <th>c_2[4]</th>\n",
       "      <th>c_3[4]</th>\n",
       "    </tr>\n",
       "  </thead>\n",
       "  <tbody>\n",
       "    <tr>\n",
       "      <th>count</th>\n",
       "      <td>303.000000</td>\n",
       "      <td>303.000000</td>\n",
       "      <td>303.000000</td>\n",
       "      <td>303.000000</td>\n",
       "      <td>303.000000</td>\n",
       "      <td>303.000000</td>\n",
       "      <td>50.000000</td>\n",
       "      <td>50.000000</td>\n",
       "    </tr>\n",
       "    <tr>\n",
       "      <th>mean</th>\n",
       "      <td>-4960.929058</td>\n",
       "      <td>498.575481</td>\n",
       "      <td>-4462.353577</td>\n",
       "      <td>0.499825</td>\n",
       "      <td>0.090179</td>\n",
       "      <td>0.981850</td>\n",
       "      <td>0.028881</td>\n",
       "      <td>0.014159</td>\n",
       "    </tr>\n",
       "    <tr>\n",
       "      <th>std</th>\n",
       "      <td>20.407384</td>\n",
       "      <td>15.990564</td>\n",
       "      <td>25.279350</td>\n",
       "      <td>0.016031</td>\n",
       "      <td>0.357492</td>\n",
       "      <td>0.006523</td>\n",
       "      <td>0.002097</td>\n",
       "      <td>0.001724</td>\n",
       "    </tr>\n",
       "    <tr>\n",
       "      <th>min</th>\n",
       "      <td>-5023.776600</td>\n",
       "      <td>453.792980</td>\n",
       "      <td>-4527.727800</td>\n",
       "      <td>0.454930</td>\n",
       "      <td>-0.689646</td>\n",
       "      <td>0.963738</td>\n",
       "      <td>0.024957</td>\n",
       "      <td>0.010294</td>\n",
       "    </tr>\n",
       "    <tr>\n",
       "      <th>25%</th>\n",
       "      <td>-4974.293950</td>\n",
       "      <td>489.027345</td>\n",
       "      <td>-4481.461150</td>\n",
       "      <td>0.490253</td>\n",
       "      <td>-0.195507</td>\n",
       "      <td>0.977034</td>\n",
       "      <td>0.027639</td>\n",
       "      <td>0.012898</td>\n",
       "    </tr>\n",
       "    <tr>\n",
       "      <th>50%</th>\n",
       "      <td>-4961.973600</td>\n",
       "      <td>498.711380</td>\n",
       "      <td>-4463.850600</td>\n",
       "      <td>0.499961</td>\n",
       "      <td>0.117024</td>\n",
       "      <td>0.982113</td>\n",
       "      <td>0.028711</td>\n",
       "      <td>0.013844</td>\n",
       "    </tr>\n",
       "    <tr>\n",
       "      <th>75%</th>\n",
       "      <td>-4945.081000</td>\n",
       "      <td>508.450165</td>\n",
       "      <td>-4446.440300</td>\n",
       "      <td>0.509724</td>\n",
       "      <td>0.395862</td>\n",
       "      <td>0.987116</td>\n",
       "      <td>0.029956</td>\n",
       "      <td>0.015200</td>\n",
       "    </tr>\n",
       "    <tr>\n",
       "      <th>max</th>\n",
       "      <td>-4906.849100</td>\n",
       "      <td>537.815640</td>\n",
       "      <td>-4389.010400</td>\n",
       "      <td>0.539164</td>\n",
       "      <td>0.799701</td>\n",
       "      <td>0.997085</td>\n",
       "      <td>0.035945</td>\n",
       "      <td>0.018485</td>\n",
       "    </tr>\n",
       "  </tbody>\n",
       "</table>\n",
       "</div>"
      ],
      "text/plain": [
       "            PotEng      KinEng       TotEng        Temp       Press  \\\n",
       "count   303.000000  303.000000   303.000000  303.000000  303.000000   \n",
       "mean  -4960.929058  498.575481 -4462.353577    0.499825    0.090179   \n",
       "std      20.407384   15.990564    25.279350    0.016031    0.357492   \n",
       "min   -5023.776600  453.792980 -4527.727800    0.454930   -0.689646   \n",
       "25%   -4974.293950  489.027345 -4481.461150    0.490253   -0.195507   \n",
       "50%   -4961.973600  498.711380 -4463.850600    0.499961    0.117024   \n",
       "75%   -4945.081000  508.450165 -4446.440300    0.509724    0.395862   \n",
       "max   -4906.849100  537.815640 -4389.010400    0.539164    0.799701   \n",
       "\n",
       "          Density     c_2[4]     c_3[4]  \n",
       "count  303.000000  50.000000  50.000000  \n",
       "mean     0.981850   0.028881   0.014159  \n",
       "std      0.006523   0.002097   0.001724  \n",
       "min      0.963738   0.024957   0.010294  \n",
       "25%      0.977034   0.027639   0.012898  \n",
       "50%      0.982113   0.028711   0.013844  \n",
       "75%      0.987116   0.029956   0.015200  \n",
       "max      0.997085   0.035945   0.018485  "
      ]
     },
     "execution_count": 36,
     "metadata": {},
     "output_type": "execute_result"
    }
   ],
   "source": [
    "data.describe()"
   ]
  },
  {
   "cell_type": "code",
   "execution_count": null,
   "metadata": {},
   "outputs": [],
   "source": []
  }
 ],
 "metadata": {
  "kernelspec": {
   "display_name": "Python 3",
   "language": "python",
   "name": "python3"
  },
  "language_info": {
   "codemirror_mode": {
    "name": "ipython",
    "version": 3
   },
   "file_extension": ".py",
   "mimetype": "text/x-python",
   "name": "python",
   "nbconvert_exporter": "python",
   "pygments_lexer": "ipython3",
   "version": "3.6.4"
  }
 },
 "nbformat": 4,
 "nbformat_minor": 2
}
